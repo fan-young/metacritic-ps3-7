{
 "cells": [
  {
   "cell_type": "code",
   "execution_count": 1,
   "id": "5fbda233",
   "metadata": {},
   "outputs": [],
   "source": [
    "from bs4 import BeautifulSoup\n",
    "import requests\n",
    "import pandas as pd"
   ]
  },
  {
   "cell_type": "markdown",
   "id": "3b8eb9cb",
   "metadata": {},
   "source": [
    "# 设置一组URL"
   ]
  },
  {
   "cell_type": "code",
   "execution_count": 2,
   "id": "b76e438d",
   "metadata": {
    "collapsed": true
   },
   "outputs": [
    {
     "data": {
      "text/plain": [
       "['https://www.metacritic.com/browse/games/score/metascore/all/ps3?page=0',\n",
       " 'https://www.metacritic.com/browse/games/score/metascore/all/ps3?page=1',\n",
       " 'https://www.metacritic.com/browse/games/score/metascore/all/ps3?page=2',\n",
       " 'https://www.metacritic.com/browse/games/score/metascore/all/ps3?page=3',\n",
       " 'https://www.metacritic.com/browse/games/score/metascore/all/ps3?page=4',\n",
       " 'https://www.metacritic.com/browse/games/score/metascore/all/ps3?page=5',\n",
       " 'https://www.metacritic.com/browse/games/score/metascore/all/ps3?page=6',\n",
       " 'https://www.metacritic.com/browse/games/score/metascore/all/ps3?page=7',\n",
       " 'https://www.metacritic.com/browse/games/score/metascore/all/ps3?page=8',\n",
       " 'https://www.metacritic.com/browse/games/score/metascore/all/ps3?page=9',\n",
       " 'https://www.metacritic.com/browse/games/score/metascore/all/ps3?page=10',\n",
       " 'https://www.metacritic.com/browse/games/score/metascore/all/ps3?page=11',\n",
       " 'https://www.metacritic.com/browse/games/score/metascore/all/ps3?page=12']"
      ]
     },
     "execution_count": 2,
     "metadata": {},
     "output_type": "execute_result"
    }
   ],
   "source": [
    "# PS3 games that have a higher Metacritic score than 7\n",
    "urls=[]\n",
    "base_url='https://www.metacritic.com/browse/games/score/metascore/all/ps3?page='\n",
    "for i in range(13):\n",
    "    url=base_url+str(i)\n",
    "    urls.append(url)\n",
    "urls"
   ]
  },
  {
   "cell_type": "markdown",
   "id": "7d01185d",
   "metadata": {},
   "source": [
    "# 依次获得该组中url的内容，并创建对应bs object"
   ]
  },
  {
   "cell_type": "code",
   "execution_count": 3,
   "id": "64409370",
   "metadata": {},
   "outputs": [],
   "source": [
    "html_data=[]\n",
    "soups=[]\n",
    "headers={'User-Agent': 'Mozilla/5.0 (Windows NT 10.0; Win64; x64) AppleWebKit/537.36 (KHTML, like Gecko) Chrome/96.0.4664.110 Safari/537.36 Edg/96.0.1054.62'}\n",
    "\n",
    "for i, url in enumerate(urls):\n",
    "    html_data.append(requests.get(url, headers=headers).text)\n",
    "    soups.append(BeautifulSoup(html_data[i], 'html.parser'))"
   ]
  },
  {
   "cell_type": "markdown",
   "id": "340c4c0d",
   "metadata": {},
   "source": [
    "# 找出所有table entry"
   ]
  },
  {
   "cell_type": "code",
   "execution_count": 4,
   "id": "428fb6ae",
   "metadata": {
    "collapsed": true
   },
   "outputs": [
    {
     "data": {
      "text/html": [
       "<div>\n",
       "<style scoped>\n",
       "    .dataframe tbody tr th:only-of-type {\n",
       "        vertical-align: middle;\n",
       "    }\n",
       "\n",
       "    .dataframe tbody tr th {\n",
       "        vertical-align: top;\n",
       "    }\n",
       "\n",
       "    .dataframe thead th {\n",
       "        text-align: right;\n",
       "    }\n",
       "</style>\n",
       "<table border=\"1\" class=\"dataframe\">\n",
       "  <thead>\n",
       "    <tr style=\"text-align: right;\">\n",
       "      <th></th>\n",
       "      <th>Cover</th>\n",
       "      <th>Game Title</th>\n",
       "      <th>Metascore</th>\n",
       "      <th>User Score</th>\n",
       "    </tr>\n",
       "  </thead>\n",
       "  <tbody>\n",
       "    <tr>\n",
       "      <th>0</th>\n",
       "      <td>https://static.metacritic.com/images/products/...</td>\n",
       "      <td>Grand Theft Auto IV</td>\n",
       "      <td>98</td>\n",
       "      <td>7.8</td>\n",
       "    </tr>\n",
       "    <tr>\n",
       "      <th>1</th>\n",
       "      <td>https://static.metacritic.com/images/products/...</td>\n",
       "      <td>Grand Theft Auto V</td>\n",
       "      <td>97</td>\n",
       "      <td>8.3</td>\n",
       "    </tr>\n",
       "    <tr>\n",
       "      <th>2</th>\n",
       "      <td>https://static.metacritic.com/images/products/...</td>\n",
       "      <td>Uncharted 2: Among Thieves</td>\n",
       "      <td>96</td>\n",
       "      <td>8.8</td>\n",
       "    </tr>\n",
       "    <tr>\n",
       "      <th>3</th>\n",
       "      <td>https://static.metacritic.com/images/products/...</td>\n",
       "      <td>Batman: Arkham City</td>\n",
       "      <td>96</td>\n",
       "      <td>8.8</td>\n",
       "    </tr>\n",
       "    <tr>\n",
       "      <th>4</th>\n",
       "      <td>https://static.metacritic.com/images/products/...</td>\n",
       "      <td>LittleBigPlanet</td>\n",
       "      <td>95</td>\n",
       "      <td>6.8</td>\n",
       "    </tr>\n",
       "  </tbody>\n",
       "</table>\n",
       "</div>"
      ],
      "text/plain": [
       "                                               Cover  \\\n",
       "0  https://static.metacritic.com/images/products/...   \n",
       "1  https://static.metacritic.com/images/products/...   \n",
       "2  https://static.metacritic.com/images/products/...   \n",
       "3  https://static.metacritic.com/images/products/...   \n",
       "4  https://static.metacritic.com/images/products/...   \n",
       "\n",
       "                   Game Title Metascore User Score  \n",
       "0         Grand Theft Auto IV        98        7.8  \n",
       "1          Grand Theft Auto V        97        8.3  \n",
       "2  Uncharted 2: Among Thieves        96        8.8  \n",
       "3         Batman: Arkham City        96        8.8  \n",
       "4             LittleBigPlanet        95        6.8  "
      ]
     },
     "execution_count": 4,
     "metadata": {},
     "output_type": "execute_result"
    }
   ],
   "source": [
    "ps3=pd.DataFrame(columns=['Cover', \"Game Title\", \"Metascore\", \"User Score\"])\n",
    "\n",
    "for soup in soups:\n",
    "    for table in soup.find_all('table'):\n",
    "        for tr in table.find_all('tr', {'class': ''}):\n",
    "            td=tr.find_all('td')\n",
    "            \n",
    "            #if len(td) > 0\n",
    "            \n",
    "            img=td[0].find('img')['src']\n",
    "            title=td[1].find('h3').text\n",
    "            metascore=td[1].find_all('a',{'class': 'metascore_anchor'})[0].find('div').text\n",
    "            user_score=td[1].find_all('a',{'class': 'metascore_anchor'})[2].find('div').text\n",
    "            \n",
    "            ps3=ps3.append({\"Cover\": img, \"Game Title\": title, \"Metascore\": metascore, \"User Score\": user_score}, ignore_index=True)\n",
    "            \n",
    "\n",
    "ps3.head()"
   ]
  },
  {
   "cell_type": "code",
   "execution_count": 5,
   "id": "72fbbb0d",
   "metadata": {},
   "outputs": [],
   "source": [
    "ps3.to_csv('meta_ps3.csv')"
   ]
  }
 ],
 "metadata": {
  "kernelspec": {
   "display_name": "Python 3 (ipykernel)",
   "language": "python",
   "name": "python3"
  },
  "language_info": {
   "codemirror_mode": {
    "name": "ipython",
    "version": 3
   },
   "file_extension": ".py",
   "mimetype": "text/x-python",
   "name": "python",
   "nbconvert_exporter": "python",
   "pygments_lexer": "ipython3",
   "version": "3.9.7"
  }
 },
 "nbformat": 4,
 "nbformat_minor": 5
}
